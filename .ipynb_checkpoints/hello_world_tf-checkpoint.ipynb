{
 "cells": [
  {
   "cell_type": "code",
   "execution_count": 4,
   "id": "e7318bc6-b34c-4520-972f-650461ed8d99",
   "metadata": {},
   "outputs": [],
   "source": [
    "import tensorflow as tf\n",
    "import numpy as np\n",
    "from tensorflow import keras"
   ]
  },
  {
   "cell_type": "code",
   "execution_count": 21,
   "id": "5f3d0c2b-669e-42ad-accf-56ee8fe8e5b8",
   "metadata": {},
   "outputs": [],
   "source": [
    "import matplotlib.pyplot as plt"
   ]
  },
  {
   "cell_type": "code",
   "execution_count": 5,
   "id": "cef20d35-5ae3-45e4-beeb-1112275819e7",
   "metadata": {},
   "outputs": [
    {
     "data": {
      "text/plain": [
       "'2.11.0'"
      ]
     },
     "execution_count": 5,
     "metadata": {},
     "output_type": "execute_result"
    }
   ],
   "source": [
    "tf.__version__"
   ]
  },
  {
   "cell_type": "code",
   "execution_count": 40,
   "id": "bb3b1187-c9c2-4a3c-8c40-1bbcc5439852",
   "metadata": {},
   "outputs": [],
   "source": [
    "xs = np.array([-1.0,  0.0, 1.0, 2.0, 3.0, 4.0], dtype=float)\n",
    "ys = np.array([-3.0, -1.0, 1.0, 3.0, 5.0, 7.0], dtype=float)"
   ]
  },
  {
   "cell_type": "code",
   "execution_count": 38,
   "id": "608c1b02-7d95-4361-8a16-1ba101f67a74",
   "metadata": {},
   "outputs": [],
   "source": [
    "#defining 1 layer nn\n",
    "model = tf.keras.Sequential([keras.layers.Dense(units=1, input_shape=[1])])"
   ]
  },
  {
   "cell_type": "code",
   "execution_count": 42,
   "id": "d8bc1be1-fd0b-4c85-a99f-afae97fe7954",
   "metadata": {},
   "outputs": [],
   "source": [
    "#compiling model, but why compile ? can;t we just build\n",
    "x_train = np.array([-1.0,  0.0, 1.0, 2.0, 3.0, 4.0], dtype=float)\n",
    "y_train = np.array([-3.3, -1.6, 1.9, 3.1, 5.2, 7.0], dtype=float)"
   ]
  },
  {
   "cell_type": "code",
   "execution_count": 43,
   "id": "b6bb73fe-24be-4b92-9c01-7a7f866c888e",
   "metadata": {},
   "outputs": [],
   "source": [
    "model.compile(optimizer='sgd', loss='mean_squared_error')"
   ]
  },
  {
   "cell_type": "code",
   "execution_count": 44,
   "id": "7add83ba-8e65-4c82-b6ff-5a95bd5210fa",
   "metadata": {},
   "outputs": [
    {
     "name": "stdout",
     "output_type": "stream",
     "text": [
      "Epoch 1/10\n",
      "1/1 [==============================] - 0s 365ms/step - loss: 7.5911\n",
      "Epoch 2/10\n",
      "1/1 [==============================] - 0s 17ms/step - loss: 6.3892\n",
      "Epoch 3/10\n",
      "1/1 [==============================] - 0s 11ms/step - loss: 5.4359\n",
      "Epoch 4/10\n",
      "1/1 [==============================] - 0s 9ms/step - loss: 4.6783\n",
      "Epoch 5/10\n",
      "1/1 [==============================] - 0s 10ms/step - loss: 4.0749\n",
      "Epoch 6/10\n",
      "1/1 [==============================] - 0s 10ms/step - loss: 3.5929\n",
      "Epoch 7/10\n",
      "1/1 [==============================] - 0s 10ms/step - loss: 3.2066\n",
      "Epoch 8/10\n",
      "1/1 [==============================] - 0s 9ms/step - loss: 2.8957\n",
      "Epoch 9/10\n",
      "1/1 [==============================] - 0s 9ms/step - loss: 2.6443\n",
      "Epoch 10/10\n",
      "1/1 [==============================] - 0s 11ms/step - loss: 2.4398\n"
     ]
    },
    {
     "data": {
      "text/plain": [
       "<keras.callbacks.History at 0x7f631ae6d0c0>"
      ]
     },
     "execution_count": 44,
     "metadata": {},
     "output_type": "execute_result"
    }
   ],
   "source": [
    "model.fit(x_train, y_train, epochs=10)"
   ]
  },
  {
   "cell_type": "code",
   "execution_count": 46,
   "id": "528f1610-03e0-4ff2-b8d5-00679294dc0c",
   "metadata": {},
   "outputs": [
    {
     "data": {
      "text/plain": [
       "<matplotlib.collections.PathCollection at 0x7f631ada7a60>"
      ]
     },
     "execution_count": 46,
     "metadata": {},
     "output_type": "execute_result"
    },
    {
     "data": {
      "image/png": "[encoded data removed]",
      "text/plain": [
       "<Figure size 640x480 with 1 Axes>"
      ]
     },
     "metadata": {},
     "output_type": "display_data"
    }
   ],
   "source": [
    "plt.scatter(x_train, y_train)"
   ]
  },
  {
   "cell_type": "code",
   "execution_count": null,
   "id": "7b403be5-095e-42b8-a27c-d1de7e2eb888",
   "metadata": {},
   "outputs": [],
   "source": []
  }
 ],
 "metadata": {
  "kernelspec": {
   "display_name": "Python 3 (ipykernel)",
   "language": "python",
   "name": "python3"
  },
  "language_info": {
   "codemirror_mode": {
    "name": "ipython",
    "version": 3
   },
   "file_extension": ".py",
   "mimetype": "text/x-python",
   "name": "python",
   "nbconvert_exporter": "python",
   "pygments_lexer": "ipython3",
   "version": "3.10.8"
  }
 },
 "nbformat": 4,
 "nbformat_minor": 5
}
